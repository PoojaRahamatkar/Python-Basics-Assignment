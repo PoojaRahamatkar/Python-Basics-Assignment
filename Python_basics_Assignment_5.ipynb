{
  "nbformat": 4,
  "nbformat_minor": 0,
  "metadata": {
    "colab": {
      "provenance": []
    },
    "kernelspec": {
      "name": "python3",
      "display_name": "Python 3"
    },
    "language_info": {
      "name": "python"
    }
  },
  "cells": [
    {
      "cell_type": "markdown",
      "source": [
        "**Assignment 5**\n",
        "\n",
        "---\n",
        "\n"
      ],
      "metadata": {
        "id": "HHhk-wvajX6u"
      }
    },
    {
      "cell_type": "markdown",
      "source": [
        "**Question 1:-**\n",
        "What does an empty dictionary's code look like?"
      ],
      "metadata": {
        "id": "ZVS_RtTvj-G9"
      }
    },
    {
      "cell_type": "markdown",
      "source": [
        "**Ans:-**\n",
        "To create an empty dictionary, the dictionary should be set to {}. "
      ],
      "metadata": {
        "id": "-c7h3POwwPv4"
      }
    },
    {
      "cell_type": "code",
      "execution_count": null,
      "metadata": {
        "id": "nlB6RDLbh6x2",
        "colab": {
          "base_uri": "https://localhost:8080/"
        },
        "outputId": "c90d226c-fe9a-48f7-b130-e0bb6e3f48a4"
      },
      "outputs": [
        {
          "output_type": "execute_result",
          "data": {
            "text/plain": [
              "dict"
            ]
          },
          "metadata": {},
          "execution_count": 1
        }
      ],
      "source": [
        "dict = {}\n",
        "type(dict)"
      ]
    },
    {
      "cell_type": "markdown",
      "source": [
        "**Question 2:-** What is the value of a dictionary value with the key 'foo' and the value 42?"
      ],
      "metadata": {
        "id": "Zvj-unAujyVD"
      }
    },
    {
      "cell_type": "code",
      "source": [
        "{\"foo\":42} "
      ],
      "metadata": {
        "colab": {
          "base_uri": "https://localhost:8080/"
        },
        "id": "MPh5Orfcjt0G",
        "outputId": "a0fe52c8-3eb0-4655-f468-8ff2f5d7871e"
      },
      "execution_count": null,
      "outputs": [
        {
          "output_type": "execute_result",
          "data": {
            "text/plain": [
              "{'foo': 42}"
            ]
          },
          "metadata": {},
          "execution_count": 2
        }
      ]
    },
    {
      "cell_type": "markdown",
      "source": [
        "**Question 3:-**What is the most significant distinction between a dictionary and a list?"
      ],
      "metadata": {
        "id": "kNqn4HC6k6xO"
      }
    },
    {
      "cell_type": "markdown",
      "source": [
        "**Ans:-**\n",
        "1. A list is a collection of Ordered data.\n",
        "\n",
        "  A dictionary is an unordered collection of data that stores data in value pairs.\n",
        "\n",
        "2. List uses index to access the elements in the list and the indes is a number.\n",
        "\n",
        "  In dictionary any type of data can be used as index but it is a string (key).\n",
        "\n",
        "3. Lists are used to look up a value.\n",
        "\n",
        "  Dictionary is used to take one value and look up another value. So dictionary is also known as lookup table."
      ],
      "metadata": {
        "id": "oQ4esM1mmLH5"
      }
    },
    {
      "cell_type": "markdown",
      "source": [
        "**Question 4:-** What happens if you try to access spam['foo'] if spam is {'bar':100}?"
      ],
      "metadata": {
        "id": "n05bTN4woogf"
      }
    },
    {
      "cell_type": "code",
      "source": [
        "spam = {'bar':100}\n",
        "spam['foo']\n",
        "# This will give us keyError"
      ],
      "metadata": {
        "colab": {
          "base_uri": "https://localhost:8080/",
          "height": 200
        },
        "id": "iq8H9oIwk2k6",
        "outputId": "4e85b255-8331-4c40-a40d-e014a0943b75"
      },
      "execution_count": null,
      "outputs": [
        {
          "output_type": "error",
          "ename": "KeyError",
          "evalue": "ignored",
          "traceback": [
            "\u001b[0;31m---------------------------------------------------------------------------\u001b[0m",
            "\u001b[0;31mKeyError\u001b[0m                                  Traceback (most recent call last)",
            "\u001b[0;32m<ipython-input-4-3abc1b3c0982>\u001b[0m in \u001b[0;36m<module>\u001b[0;34m\u001b[0m\n\u001b[1;32m      1\u001b[0m \u001b[0mspam\u001b[0m \u001b[0;34m=\u001b[0m \u001b[0;34m{\u001b[0m\u001b[0;34m'bar'\u001b[0m\u001b[0;34m:\u001b[0m\u001b[0;36m100\u001b[0m\u001b[0;34m}\u001b[0m\u001b[0;34m\u001b[0m\u001b[0;34m\u001b[0m\u001b[0m\n\u001b[0;32m----> 2\u001b[0;31m \u001b[0mspam\u001b[0m\u001b[0;34m[\u001b[0m\u001b[0;34m'foo'\u001b[0m\u001b[0;34m]\u001b[0m\u001b[0;34m\u001b[0m\u001b[0;34m\u001b[0m\u001b[0m\n\u001b[0m\u001b[1;32m      3\u001b[0m \u001b[0;31m# This will give us keyError\u001b[0m\u001b[0;34m\u001b[0m\u001b[0;34m\u001b[0m\u001b[0;34m\u001b[0m\u001b[0m\n",
            "\u001b[0;31mKeyError\u001b[0m: 'foo'"
          ]
        }
      ]
    },
    {
      "cell_type": "markdown",
      "source": [
        "**Question 5:-** If a dictionary is stored in spam, what is the difference between the expressions 'cat' in spam and 'cat' in spam.keys()?"
      ],
      "metadata": {
        "id": "gVWmATAlqHgf"
      }
    },
    {
      "cell_type": "code",
      "source": [
        "spam = {'cat':100}\n",
        "'cat' in spam"
      ],
      "metadata": {
        "colab": {
          "base_uri": "https://localhost:8080/"
        },
        "id": "CQErfb7bpet_",
        "outputId": "7eb3fc56-7e24-4ea5-b682-1827601928ad"
      },
      "execution_count": null,
      "outputs": [
        {
          "output_type": "execute_result",
          "data": {
            "text/plain": [
              "True"
            ]
          },
          "metadata": {},
          "execution_count": 5
        }
      ]
    },
    {
      "cell_type": "code",
      "source": [
        "'cat' in spam.keys()\n",
        "# There is no difference, both check if 'cat' is key of the dictonary"
      ],
      "metadata": {
        "colab": {
          "base_uri": "https://localhost:8080/"
        },
        "id": "YO5ODw_4q4UU",
        "outputId": "eb98ace5-b645-47f0-e99d-4936813f372a"
      },
      "execution_count": null,
      "outputs": [
        {
          "output_type": "execute_result",
          "data": {
            "text/plain": [
              "True"
            ]
          },
          "metadata": {},
          "execution_count": 6
        }
      ]
    },
    {
      "cell_type": "markdown",
      "source": [
        "**Question 6:-** If a dictionary is stored in spam, what is the difference between the expressions 'cat' in spam and 'cat' in spam.values()?"
      ],
      "metadata": {
        "id": "fFIGHE9CrKML"
      }
    },
    {
      "cell_type": "code",
      "source": [
        "spam= {'cat':100}\n",
        "'cat' in spam"
      ],
      "metadata": {
        "colab": {
          "base_uri": "https://localhost:8080/"
        },
        "id": "7VUfmqhlrHts",
        "outputId": "1ccb97b5-a1ca-4d62-c9c5-a834eaa4d460"
      },
      "execution_count": null,
      "outputs": [
        {
          "output_type": "execute_result",
          "data": {
            "text/plain": [
              "True"
            ]
          },
          "metadata": {},
          "execution_count": 7
        }
      ]
    },
    {
      "cell_type": "code",
      "source": [
        "spam = {'cat':100}\n",
        "'cat' in spam.values()\n",
        "\n",
        "# 'cat' in spam chacks whether thereis a 'cat' in the dictionary\n",
        "# 'cat' in spam.values() checks whether there is a value 'cat' for one of the key in spam"
      ],
      "metadata": {
        "colab": {
          "base_uri": "https://localhost:8080/"
        },
        "id": "yXCG-HkNsoBo",
        "outputId": "5101267f-2a50-4c10-944b-aa89d1ca60da"
      },
      "execution_count": null,
      "outputs": [
        {
          "output_type": "execute_result",
          "data": {
            "text/plain": [
              "False"
            ]
          },
          "metadata": {},
          "execution_count": 9
        }
      ]
    },
    {
      "cell_type": "markdown",
      "source": [
        "**Question 7:-** What is a shortcut for the following code?\n",
        "\n",
        "if 'color' not in spam:\n",
        "\n",
        "spam['color'] = 'black'"
      ],
      "metadata": {
        "id": "FxuST_wYrdxN"
      }
    },
    {
      "cell_type": "code",
      "source": [
        "spam = {'cat':100}\n",
        "spam.setdefault('color','black')\n",
        "spam"
      ],
      "metadata": {
        "colab": {
          "base_uri": "https://localhost:8080/"
        },
        "id": "2Dvjc3mHrxx8",
        "outputId": "96fba03d-cae3-4983-c657-5d0c414233a0"
      },
      "execution_count": null,
      "outputs": [
        {
          "output_type": "execute_result",
          "data": {
            "text/plain": [
              "{'cat': 100, 'color': 'black'}"
            ]
          },
          "metadata": {},
          "execution_count": 10
        }
      ]
    },
    {
      "cell_type": "markdown",
      "source": [
        "**Question 8:-** How do you \"pretty print\" dictionary values using which module and function?"
      ],
      "metadata": {
        "id": "ObuxVW5Mr5Gk"
      }
    },
    {
      "cell_type": "code",
      "source": [
        "import pprint\n",
        "dict = [{\"First Name\":\"Pooja\", \"Middle Name\": 'Ganash', \"Last Name\":\"Rahamatkar\"},\n",
        "        {\"First Name\":\"Riyah\", \"Middle Name\":\"Prakash\", \"Last Name\":\"Sharma\"},\n",
        "        {\"First Name\":\"Shiv\", \"Middle Name\":\"Ram\", \"Last Name\":\"Kumar\"},\n",
        "        {\"First Name\":\"Meena\", \"Middle Name\":\"Rajesh\", \"Last Name\":\"Kawde\"}\n",
        "        ]"
      ],
      "metadata": {
        "id": "lxX7B60WsQx_"
      },
      "execution_count": null,
      "outputs": []
    },
    {
      "cell_type": "code",
      "source": [
        "# printing with pprint()\n",
        "pprint.pprint(dict)"
      ],
      "metadata": {
        "colab": {
          "base_uri": "https://localhost:8080/"
        },
        "id": "GAN4KwYBvOFH",
        "outputId": "b1c044d6-ebf4-4d79-f114-62a3753a1ff3"
      },
      "execution_count": null,
      "outputs": [
        {
          "output_type": "stream",
          "name": "stdout",
          "text": [
            "[{'First Name': 'Pooja', 'Last Name': 'Rahamatkar', 'Middle Name': 'Ganash'},\n",
            " {'First Name': 'Riyah', 'Last Name': 'Sharma', 'Middle Name': 'Prakash'},\n",
            " {'First Name': 'Shiv', 'Last Name': 'Kumar', 'Middle Name': 'Ram'},\n",
            " {'First Name': 'Meena', 'Last Name': 'Kawde', 'Middle Name': 'Rajesh'}]\n"
          ]
        }
      ]
    },
    {
      "cell_type": "code",
      "source": [
        "#Printing with print()\n",
        "print(dict)"
      ],
      "metadata": {
        "colab": {
          "base_uri": "https://localhost:8080/"
        },
        "id": "9iTt4GStvmnH",
        "outputId": "652934bf-045c-411d-d763-86615f7e0b31"
      },
      "execution_count": null,
      "outputs": [
        {
          "output_type": "stream",
          "name": "stdout",
          "text": [
            "[{'First Name': 'Pooja', 'Middle Name': 'Ganash', 'Last Name': 'Rahamatkar'}, {'First Name': 'Riyah', 'Middle Name': 'Prakash', 'Last Name': 'Sharma'}, {'First Name': 'Shiv', 'Middle Name': 'Ram', 'Last Name': 'Kumar'}, {'First Name': 'Meena', 'Middle Name': 'Rajesh', 'Last Name': 'Kawde'}]\n"
          ]
        }
      ]
    },
    {
      "cell_type": "code",
      "source": [],
      "metadata": {
        "id": "s5j41QtmvvYQ"
      },
      "execution_count": null,
      "outputs": []
    }
  ]
}