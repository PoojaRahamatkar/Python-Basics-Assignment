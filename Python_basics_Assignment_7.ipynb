{
  "nbformat": 4,
  "nbformat_minor": 0,
  "metadata": {
    "colab": {
      "provenance": []
    },
    "kernelspec": {
      "name": "python3",
      "display_name": "Python 3"
    },
    "language_info": {
      "name": "python"
    }
  },
  "cells": [
    {
      "cell_type": "markdown",
      "source": [
        "**Assignment 7**\n",
        "\n",
        "\n",
        "---\n",
        "\n",
        "\n",
        "---\n",
        "\n",
        "\n"
      ],
      "metadata": {
        "id": "_vbHALl78O-I"
      }
    },
    {
      "cell_type": "markdown",
      "source": [
        "**Question 1:-**  What is the name of the feature responsible for generating Regex objects?"
      ],
      "metadata": {
        "id": "s76xAyOWGMGm"
      }
    },
    {
      "cell_type": "markdown",
      "source": [
        "A RegEx, or Regular Expression, is a sequence of characters that forms a search pattern.\n",
        "\n",
        "\n",
        "\n",
        "RegEx can be used to check if a string contains the specified search pattern.\n",
        "\n",
        "\n",
        "\n",
        "Python has a built-in package called **re**, which can be used to work with Regular Expressions.\n",
        "\n",
        "\n",
        "\n",
        "The **re.compile()** function returns RegEx objects."
      ],
      "metadata": {
        "id": "9KOWC1aNHSu4"
      }
    },
    {
      "cell_type": "markdown",
      "source": [
        "\n",
        "\n",
        "---\n",
        "\n",
        "\n"
      ],
      "metadata": {
        "id": "p3NoM9AqNK-r"
      }
    },
    {
      "cell_type": "markdown",
      "source": [
        "**Question 2:-** Why do raw strings often appear in Regex objects?"
      ],
      "metadata": {
        "id": "Q7S55qu4KJgT"
      }
    },
    {
      "cell_type": "markdown",
      "source": [
        "**Ans:-**\n",
        "\n",
        "Raw strings are used so that backslashes do not have to be escaped."
      ],
      "metadata": {
        "id": "-5j8HEFuKuyd"
      }
    },
    {
      "cell_type": "markdown",
      "source": [
        "\n",
        "\n",
        "---\n",
        "\n"
      ],
      "metadata": {
        "id": "VJdkBXGNNVJG"
      }
    },
    {
      "cell_type": "markdown",
      "source": [
        "**Question 3:-** What is the return value of the search() method?"
      ],
      "metadata": {
        "id": "1QirVAGgLIIo"
      }
    },
    {
      "cell_type": "markdown",
      "source": [
        "**Ans:-**\n",
        "\n",
        "The search() method returns Match objects.\n",
        "the return value of the search() method is that it returns Match objects. The search() function searches the string for a match, and returns a Match objectif there is a match."
      ],
      "metadata": {
        "id": "5CTrXx7sLHkx"
      }
    },
    {
      "cell_type": "markdown",
      "source": [
        "\n",
        "\n",
        "---\n",
        "\n"
      ],
      "metadata": {
        "id": "HynU5G76NYYv"
      }
    },
    {
      "cell_type": "code",
      "source": [
        "import re\n",
        "\n",
        "data = \"Hii I am Pooja\"\n",
        "x = re.search(\"i\", data)\n",
        "\n",
        "print(\"The first i character is located in postion: \", x.start())\n",
        "type(x)"
      ],
      "metadata": {
        "colab": {
          "base_uri": "https://localhost:8080/"
        },
        "id": "AYtNeasSL5Jq",
        "outputId": "4ccf6199-2688-4ffd-f6d4-539dfa427f21"
      },
      "execution_count": 1,
      "outputs": [
        {
          "output_type": "stream",
          "name": "stdout",
          "text": [
            "The first i character is located in postion:  1\n"
          ]
        },
        {
          "output_type": "execute_result",
          "data": {
            "text/plain": [
              "re.Match"
            ]
          },
          "metadata": {},
          "execution_count": 1
        }
      ]
    },
    {
      "cell_type": "markdown",
      "source": [
        "\n",
        "\n",
        "---\n",
        "\n"
      ],
      "metadata": {
        "id": "vLU1-VlxNaww"
      }
    },
    {
      "cell_type": "markdown",
      "source": [
        "**Question 4:-** From a Match item, how do you get the actual strings that match the pattern?"
      ],
      "metadata": {
        "id": "tf_bpv5_LHTT"
      }
    },
    {
      "cell_type": "markdown",
      "source": [
        "**Ans:-**\n",
        "\n",
        "The group() method returns strings of the matched text."
      ],
      "metadata": {
        "id": "-DYtmdyiN7_a"
      }
    },
    {
      "cell_type": "markdown",
      "source": [
        "\n",
        "\n",
        "---\n",
        "\n"
      ],
      "metadata": {
        "id": "FRu-n4QGNcD4"
      }
    },
    {
      "cell_type": "markdown",
      "source": [
        "**Question 5:-** In the regex which created from the r'(\\d\\d\\d)-(\\d\\d\\d-\\d\\d\\d\\d)', what does group zero cover? Group 2? Group 1?"
      ],
      "metadata": {
        "id": "UDpTf3MxOepE"
      }
    },
    {
      "cell_type": "markdown",
      "source": [
        "**Ans:-**\n",
        "\n",
        "Group 0 is the entire match, group 1 covers the first set of parentheses, and group 2 covers the second set of parentheses."
      ],
      "metadata": {
        "id": "SBVO3MTDPD1r"
      }
    },
    {
      "cell_type": "markdown",
      "source": [
        "\n",
        "\n",
        "---\n",
        "\n"
      ],
      "metadata": {
        "id": "kB5VqVJSNdZZ"
      }
    },
    {
      "cell_type": "markdown",
      "source": [
        "**Question 6:-** In standard expression syntax, parentheses and intervals have distinct meanings. How can you tell a regex that you want it to fit real parentheses and periods?"
      ],
      "metadata": {
        "id": "ktR9_-DSPgVN"
      }
    },
    {
      "cell_type": "markdown",
      "source": [
        "**Ans:-** \n",
        "\n",
        "Periods and parentheses can be escaped with a backslash: \\, \\(, and \\)."
      ],
      "metadata": {
        "id": "9vdAsuvKP8Ii"
      }
    },
    {
      "cell_type": "markdown",
      "source": [
        "\n",
        "\n",
        "---\n",
        "\n"
      ],
      "metadata": {
        "id": "LKYCK_wXNeiB"
      }
    },
    {
      "cell_type": "markdown",
      "source": [
        "**Question 7:-** The findall() method returns a string list or a list of string tuples. What causes it to return one of the two options?"
      ],
      "metadata": {
        "id": "kYfBd74eQ0D5"
      }
    },
    {
      "cell_type": "markdown",
      "source": [
        "**Ans:-**\n",
        "\n",
        "If the regex has no groups, a list of strings is returned. If the regex has groups, a list of tuples of strings is returned."
      ],
      "metadata": {
        "id": "vr9yaeaIQzox"
      }
    },
    {
      "cell_type": "markdown",
      "source": [
        "\n",
        "\n",
        "---\n",
        "\n"
      ],
      "metadata": {
        "id": "Y0qjp9RoNgia"
      }
    },
    {
      "cell_type": "markdown",
      "source": [
        "**Question 8:-** In standard expressions, what does the | character mean?"
      ],
      "metadata": {
        "id": "MF_kwR3uQzXS"
      }
    },
    {
      "cell_type": "markdown",
      "source": [
        "**Ans:-**\n",
        "\n",
        "The | character signifies matching \"either, or\" between two groups."
      ],
      "metadata": {
        "id": "uDXsXwV3RfMJ"
      }
    },
    {
      "cell_type": "markdown",
      "source": [
        "\n",
        "\n",
        "---\n",
        "\n"
      ],
      "metadata": {
        "id": "-nssg8nwNnu_"
      }
    },
    {
      "cell_type": "markdown",
      "source": [
        "**Question 9:-** In regular expressions, what does the character stand for?"
      ],
      "metadata": {
        "id": "oFP2VhjrRjCf"
      }
    },
    {
      "cell_type": "markdown",
      "source": [
        "**Ans:-**\n",
        "\n",
        "The ? character can either mean \"match zero or one of the preceding group\" or be used to signify nongreedy matching."
      ],
      "metadata": {
        "id": "aPx7nSfpRyRa"
      }
    },
    {
      "cell_type": "markdown",
      "source": [
        "\n",
        "\n",
        "---\n",
        "\n"
      ],
      "metadata": {
        "id": "C61nk_gTNpQk"
      }
    },
    {
      "cell_type": "markdown",
      "source": [
        "**Question 10:-** In regular expressions, what is the difference between the + and * characters?"
      ],
      "metadata": {
        "id": "z_tXMm_1R4uc"
      }
    },
    {
      "cell_type": "markdown",
      "source": [
        "**Ans:-**\n",
        "\n",
        "The + matches one or more.\n",
        " \n",
        "The matches zero or more."
      ],
      "metadata": {
        "id": "67HF3keJSRCd"
      }
    },
    {
      "cell_type": "markdown",
      "source": [
        "\n",
        "\n",
        "---\n",
        "\n"
      ],
      "metadata": {
        "id": "CUDL3u2cNrAo"
      }
    },
    {
      "cell_type": "markdown",
      "source": [
        "**Question 11:-** What is the difference between {4} and {4,5} in regular expression?"
      ],
      "metadata": {
        "id": "htbliZgBSVa-"
      }
    },
    {
      "cell_type": "markdown",
      "source": [
        "**Ans:-**\n",
        "\n",
        "The {4} matches exactly three instances of the preceding group. The {4, 5} matches between three and five instances."
      ],
      "metadata": {
        "id": "XWXIIZlQSmf6"
      }
    },
    {
      "cell_type": "markdown",
      "source": [
        "\n",
        "\n",
        "---\n",
        "\n"
      ],
      "metadata": {
        "id": "_WOOAbm_NtPT"
      }
    },
    {
      "cell_type": "markdown",
      "source": [
        "**Question 12:-** What do you mean by the \\d, \\w, and \\s shorthand character classes signify in regular expressions?"
      ],
      "metadata": {
        "id": "5_HMmiPMSrvM"
      }
    },
    {
      "cell_type": "markdown",
      "source": [
        "**Ans:-**\n",
        "\n",
        "The \\d, \\w, and \\s shorthand character classes match a single digit, word, or space character, respectively."
      ],
      "metadata": {
        "id": "VY2c37qFTHOE"
      }
    },
    {
      "cell_type": "markdown",
      "source": [
        "\n",
        "\n",
        "---\n",
        "\n"
      ],
      "metadata": {
        "id": "apFW9rKuNu7h"
      }
    },
    {
      "cell_type": "markdown",
      "source": [
        "**Question 13:-** What do means by \\D, \\W, and \\S shorthand character classes signify in regular expressions?"
      ],
      "metadata": {
        "id": "vnbSucwsTKZE"
      }
    },
    {
      "cell_type": "markdown",
      "source": [
        "**Ans:-**\n",
        "\n",
        "The \\D, \\W, and \\S shorthand character classes match a single character that is not a digit, word, or space character, respectively."
      ],
      "metadata": {
        "id": "CalLY0_kTfAe"
      }
    },
    {
      "cell_type": "markdown",
      "source": [
        "\n",
        "\n",
        "---\n",
        "\n"
      ],
      "metadata": {
        "id": "3YepiIqvNw3P"
      }
    },
    {
      "cell_type": "markdown",
      "source": [
        "**Question 14:-** What is the difference between.*? and .*?"
      ],
      "metadata": {
        "id": "d1CerYAxTlM5"
      }
    },
    {
      "cell_type": "markdown",
      "source": [
        "**Ans:-**\n",
        "\n",
        "Passing re.I or re.IGNORECASE as the second argument to re.compile() will make the matching case insensitive."
      ],
      "metadata": {
        "id": "fz3T2s77TkeB"
      }
    },
    {
      "cell_type": "markdown",
      "source": [
        "\n",
        "\n",
        "---\n",
        "\n"
      ],
      "metadata": {
        "id": "D-S312HONyqg"
      }
    },
    {
      "cell_type": "markdown",
      "source": [
        "**Question 15:-** What is the syntax for matching both numbers and lowercase letter with a character class?"
      ],
      "metadata": {
        "id": "1JUREKssUFYA"
      }
    },
    {
      "cell_type": "markdown",
      "source": [
        "**Ans:-**\n",
        "\n",
        "The . character normally matches any character except the newline character. if re.DOTALL is passed as the second argument to re.compile(), then the dot will also match newline characters."
      ],
      "metadata": {
        "id": "_uva8jPnUE_V"
      }
    },
    {
      "cell_type": "markdown",
      "source": [
        "\n",
        "\n",
        "---\n",
        "\n"
      ],
      "metadata": {
        "id": "eBoadqmUNz4J"
      }
    },
    {
      "cell_type": "markdown",
      "source": [
        "**Question 16:-** What is the procedure for making a normal expression in regax case insensitive?"
      ],
      "metadata": {
        "id": "__hQ5dSFUg6-"
      }
    },
    {
      "cell_type": "markdown",
      "source": [
        "**Ans:-**\n",
        "\n",
        "The .**performs a greedy match, and the .** ? performs a nongreedy match."
      ],
      "metadata": {
        "id": "nL-rQ_ZzUgLr"
      }
    },
    {
      "cell_type": "markdown",
      "source": [
        "\n",
        "\n",
        "---\n",
        "\n"
      ],
      "metadata": {
        "id": "-1SD04eeN1uV"
      }
    },
    {
      "cell_type": "markdown",
      "source": [
        "**Question 17:-** What does the . character normally match? What does it match if re.DOTALL is passed as 2nd argument in re.compile()?"
      ],
      "metadata": {
        "id": "_tFgsV1LU0wy"
      }
    },
    {
      "cell_type": "markdown",
      "source": [
        "**Ans:-**\n",
        "\n",
        "Either [0-9a-z] or [a-z0-9]"
      ],
      "metadata": {
        "id": "gJwTYj7kVOh3"
      }
    },
    {
      "cell_type": "markdown",
      "source": [
        "\n",
        "\n",
        "---\n",
        "\n"
      ],
      "metadata": {
        "id": "jL3YeO72N26V"
      }
    },
    {
      "cell_type": "markdown",
      "source": [
        "**Question 18:-** If numReg = re.compile(r'\\d+'), what will numRegex.sub('X', '11 drummers, 10 pipers, five rings, 4 hen')return?"
      ],
      "metadata": {
        "id": "eIPaCa5NVYkn"
      }
    },
    {
      "cell_type": "markdown",
      "source": [
        "**Ans:-**\n",
        "\n",
        "'X drummers, X pipers, five rings, X hens'"
      ],
      "metadata": {
        "id": "rBQLlp5TV-HL"
      }
    },
    {
      "cell_type": "code",
      "source": [
        "import re\n",
        "numRegex = re.compile(r'\\d+')"
      ],
      "metadata": {
        "id": "X3AKmk7_Me7h"
      },
      "execution_count": 3,
      "outputs": []
    },
    {
      "cell_type": "code",
      "source": [
        "numRegex.sub('X', '11 drummers, 10 pipers, five rings, 4 hen')"
      ],
      "metadata": {
        "colab": {
          "base_uri": "https://localhost:8080/",
          "height": 35
        },
        "id": "Gi3khFPlM2S5",
        "outputId": "a27e5aea-fb85-4b73-b504-60245e2ed557"
      },
      "execution_count": 4,
      "outputs": [
        {
          "output_type": "execute_result",
          "data": {
            "text/plain": [
              "'X drummers, X pipers, five rings, X hen'"
            ],
            "application/vnd.google.colaboratory.intrinsic+json": {
              "type": "string"
            }
          },
          "metadata": {},
          "execution_count": 4
        }
      ]
    },
    {
      "cell_type": "markdown",
      "source": [
        "\n",
        "\n",
        "---\n",
        "\n"
      ],
      "metadata": {
        "id": "liW2FIEoN4vj"
      }
    },
    {
      "cell_type": "markdown",
      "source": [
        "**Question 19:-** What does passing re.VERBOSE as the 2nd argument to re.compile() allow to do?"
      ],
      "metadata": {
        "id": "LfRTmoopWC_-"
      }
    },
    {
      "cell_type": "markdown",
      "source": [
        "**Ans:-**\n",
        "\n",
        "The re.VERBOSE argument allows you to add whitespace and comments to the string passed to re.compile()."
      ],
      "metadata": {
        "id": "qhBrHzG5ZNhC"
      }
    },
    {
      "cell_type": "markdown",
      "source": [
        "\n",
        "\n",
        "---\n",
        "\n"
      ],
      "metadata": {
        "id": "1DPWg-raN6LI"
      }
    },
    {
      "cell_type": "markdown",
      "source": [
        "**Question 20:-** How would you write a regex that match a number with comma for every three digits? It must match the given following:\n",
        "\n",
        "'42'\n",
        "\n",
        "'1,234'\n",
        "\n",
        "'6,368,745'\n",
        "\n",
        "but not the following:\n",
        "\n",
        "'12,34,567' (which has only two digits between the commas)\n",
        "\n",
        "'1234' (which lacks commas)"
      ],
      "metadata": {
        "id": "4Q0LHZo-ZUlz"
      }
    },
    {
      "cell_type": "markdown",
      "source": [
        "**Ans:-**\n",
        "\n",
        "re.compile(r'^\\d{1,3} (,\\d{3})*$') will create this regex, but other regex strings can produce a similar regular expression."
      ],
      "metadata": {
        "id": "jVMlkVl3aXJt"
      }
    },
    {
      "cell_type": "markdown",
      "source": [
        "\n",
        "\n",
        "---\n",
        "\n"
      ],
      "metadata": {
        "id": "MN2oNtk8N8BM"
      }
    },
    {
      "cell_type": "markdown",
      "source": [
        "**Question 21:-** How would you write a regex that matches the full name of someone whose last name is Watanabe? You can assume that the first name that comes before it will always be one word that begins with a capital letter. The regex must match the following:\n",
        "\n",
        "'Haruto Watanabe'\n",
        "\n",
        "'Alice Watanabe'\n",
        "\n",
        "'RoboCop Watanabe'\n",
        "\n",
        "but not the following:\n",
        "\n",
        "'haruto Watanabe' (where the first name is not capitalized)\n",
        "\n",
        "'Mr. Watanabe' (where the preceding word has a nonletter character)\n",
        "\n",
        "'Watanabe' (which has no first name)\n",
        "\n",
        "'Haruto watanabe' (where Watanabe is not capitalized)"
      ],
      "metadata": {
        "id": "UYtKsOWkaeoD"
      }
    },
    {
      "cell_type": "markdown",
      "source": [
        "**Ans:-**\n",
        "\n",
        "re.compile(r'[A-Z][a-z]*\\sNakamoto')"
      ],
      "metadata": {
        "id": "mIwiYyV6dXjN"
      }
    },
    {
      "cell_type": "markdown",
      "source": [
        "\n",
        "\n",
        "---\n",
        "\n"
      ],
      "metadata": {
        "id": "iyturm2KN-NQ"
      }
    },
    {
      "cell_type": "markdown",
      "source": [
        "**Question 22:-** How would you write a regex that matches a sentence where the first word is either Alice, Bob, or Carol; the second word is either eats, or throws; the third word is apples, cats, or must match the following:\n",
        "\n",
        "'Alice eats apples.'\n",
        "\n",
        "'Bob pets cats.'\n",
        "\n",
        "'Carol throws Apples.'\n",
        "\n",
        "'BOB EATS CATS.'\n",
        "\n",
        "but not the following:\n",
        "\n",
        "'RoboCop eats apples.'\n",
        "\n",
        "'ALICE THROWS FOOTBALLS.'\n",
        "\n",
        "'Carol eats 7 cats.'"
      ],
      "metadata": {
        "id": "l-dZ49F7ddCl"
      }
    },
    {
      "cell_type": "markdown",
      "source": [
        "**Ans:-**\n",
        "\n",
        "re.compile(r'Alice|Bob|Carol)\\s(eats|pets|throws)\\s(apples|cats|baseballs)\\.', re.IGNORECASE)"
      ],
      "metadata": {
        "id": "ud60MJSkRQ3v"
      }
    },
    {
      "cell_type": "code",
      "source": [],
      "metadata": {
        "id": "_Z9M_338et1H"
      },
      "execution_count": null,
      "outputs": []
    }
  ]
}