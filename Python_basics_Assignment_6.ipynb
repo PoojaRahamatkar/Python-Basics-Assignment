{
  "nbformat": 4,
  "nbformat_minor": 0,
  "metadata": {
    "colab": {
      "provenance": [],
      "collapsed_sections": []
    },
    "kernelspec": {
      "name": "python3",
      "display_name": "Python 3"
    },
    "language_info": {
      "name": "python"
    }
  },
  "cells": [
    {
      "cell_type": "markdown",
      "source": [
        "**Assignment 6**\n",
        "\n",
        "---\n",
        "\n",
        "\n"
      ],
      "metadata": {
        "id": "ij12WlW7rnvN"
      }
    },
    {
      "cell_type": "markdown",
      "source": [
        "**Question 1:-** What are escape characters, and how do you use them?"
      ],
      "metadata": {
        "id": "Ap5Uk6FwsCt6"
      }
    },
    {
      "cell_type": "markdown",
      "source": [
        "**Ans:-** Escape characters represent characters in string values that would otherwise be difficult or impossible to type into code.\n",
        "\n",
        "In Python strings, the backslash \"\\\" is a special character, also called the \"escape\" character. It is used in representing certain whitespace characters: \"\\t\" is a tab, \"\\n\" is a newline, and \"\\r\" is a carriage return."
      ],
      "metadata": {
        "id": "QrzSzC8BwxVw"
      }
    },
    {
      "cell_type": "code",
      "source": [
        "print(\"I \\\n",
        "am \\\n",
        "Pooja\")"
      ],
      "metadata": {
        "colab": {
          "base_uri": "https://localhost:8080/"
        },
        "id": "buo3VvSSyE78",
        "outputId": "29c453bf-c998-4c4d-ce2f-132e995e3e44"
      },
      "execution_count": 39,
      "outputs": [
        {
          "output_type": "stream",
          "name": "stdout",
          "text": [
            "I am Pooja\n"
          ]
        }
      ]
    },
    {
      "cell_type": "markdown",
      "source": [
        "**Question 2:-** What do the escape characters n and t stand for?"
      ],
      "metadata": {
        "id": "c8ffz47xsVyI"
      }
    },
    {
      "cell_type": "markdown",
      "source": [
        "**Ans:-**\n",
        "\n",
        "\\n :- is a newline\n",
        "\n",
        "\\t :- is a tab"
      ],
      "metadata": {
        "id": "gQwgnrjUybyj"
      }
    },
    {
      "cell_type": "code",
      "source": [
        "print(\"Hello \\n pooja\")"
      ],
      "metadata": {
        "colab": {
          "base_uri": "https://localhost:8080/"
        },
        "id": "f7F8TXLeyahY",
        "outputId": "cb98cfd1-71b0-4c60-f7d6-1a2692cc31b0"
      },
      "execution_count": 6,
      "outputs": [
        {
          "output_type": "stream",
          "name": "stdout",
          "text": [
            "Hello \n",
            " pooja\n"
          ]
        }
      ]
    },
    {
      "cell_type": "code",
      "source": [
        "print(\"Hello \\t pooja\")"
      ],
      "metadata": {
        "colab": {
          "base_uri": "https://localhost:8080/"
        },
        "id": "aWZ9KYvzzjm2",
        "outputId": "91c42c2c-4657-4533-ea21-9f2575cbbeac"
      },
      "execution_count": 7,
      "outputs": [
        {
          "output_type": "stream",
          "name": "stdout",
          "text": [
            "Hello \t pooja\n"
          ]
        }
      ]
    },
    {
      "cell_type": "markdown",
      "source": [
        "**Question 3:-** What is the way to include backslash characters in a string?"
      ],
      "metadata": {
        "id": "KMsS06U7siKU"
      }
    },
    {
      "cell_type": "markdown",
      "source": [
        "**Ans:-** \n",
        "\n",
        "The \\\\ escape character will represent a backslash character."
      ],
      "metadata": {
        "id": "DRy0au7PzyXm"
      }
    },
    {
      "cell_type": "code",
      "source": [
        "print(\"back slash \\\\ in a line\")"
      ],
      "metadata": {
        "colab": {
          "base_uri": "https://localhost:8080/"
        },
        "id": "RcW1y2uG0NGR",
        "outputId": "94deb43e-af66-484f-b93a-a214df78d96d"
      },
      "execution_count": 41,
      "outputs": [
        {
          "output_type": "stream",
          "name": "stdout",
          "text": [
            "back slash \\ in a line\n"
          ]
        }
      ]
    },
    {
      "cell_type": "markdown",
      "source": [
        "**Question 4:-** The string \"Howl's Moving Castle\" is a correct value. Why isn't the single quote character in the word Howl's not escaped a problem?"
      ],
      "metadata": {
        "id": "2NgAkXiMs2n0"
      }
    },
    {
      "cell_type": "markdown",
      "source": [
        "**Ans:-**\n",
        "\n",
        "The single quote in Howl's is fine because you've used double quotes to mark the beginning and end of the string. Like wise we can use double quotes in with single quotes."
      ],
      "metadata": {
        "id": "_tzli9C70YPS"
      }
    },
    {
      "cell_type": "code",
      "source": [
        "print(\"HowI's moving Castle\")"
      ],
      "metadata": {
        "colab": {
          "base_uri": "https://localhost:8080/"
        },
        "id": "embCISBy062A",
        "outputId": "53a00731-6eb9-43bc-ac6e-eec8ce275978"
      },
      "execution_count": 9,
      "outputs": [
        {
          "output_type": "stream",
          "name": "stdout",
          "text": [
            "HowI's moving Castle\n"
          ]
        }
      ]
    },
    {
      "cell_type": "code",
      "source": [
        "# like wise we can use double quote in side single quote\n",
        "print(\"Its a 'Nice' Day\")"
      ],
      "metadata": {
        "colab": {
          "base_uri": "https://localhost:8080/"
        },
        "id": "kYJplZdB1AuJ",
        "outputId": "9bce4797-cf2d-4713-a63d-678a94b546aa"
      },
      "execution_count": 10,
      "outputs": [
        {
          "output_type": "stream",
          "name": "stdout",
          "text": [
            "Its a 'Nice' Day\n"
          ]
        }
      ]
    },
    {
      "cell_type": "markdown",
      "source": [
        "**Question 5:-** How do you write a string of newlines if you don't want to use the n character?"
      ],
      "metadata": {
        "id": "uQtgWSxstaMo"
      }
    },
    {
      "cell_type": "markdown",
      "source": [
        "**Ans:-** \n",
        "\n",
        "Multiline strings allow you to use newlines in strings without the \\n escape character."
      ],
      "metadata": {
        "id": "LpRgNDbr1-on"
      }
    },
    {
      "cell_type": "code",
      "source": [
        "print(\"printing string in new line\", end = \"\\n\")\n",
        "print(\"I am pooja\")"
      ],
      "metadata": {
        "colab": {
          "base_uri": "https://localhost:8080/"
        },
        "id": "r0ODjqKS1cXk",
        "outputId": "20dc5ca7-3d29-40ff-eb33-3e7a51723078"
      },
      "execution_count": 12,
      "outputs": [
        {
          "output_type": "stream",
          "name": "stdout",
          "text": [
            "printing string in new line\n",
            "I am pooja\n"
          ]
        }
      ]
    },
    {
      "cell_type": "markdown",
      "source": [
        "**Question 6:-** What are the values of the given expressions?\n",
        "\n",
        "'Hello, world!'[1]\n",
        "\n",
        "'Hello, world!'[0:5]\n",
        "\n",
        "'Hello, world!'[:5]\n",
        "\n",
        "'Hello, world!'[3:]"
      ],
      "metadata": {
        "id": "fVnLSFOatoO7"
      }
    },
    {
      "cell_type": "markdown",
      "source": [
        "**Ans:-**\n",
        "\n",
        "The expressions evaluate to the following:"
      ],
      "metadata": {
        "id": "g9lJMcJE2V-n"
      }
    },
    {
      "cell_type": "code",
      "source": [
        "\"Hello, world!\"[1]"
      ],
      "metadata": {
        "colab": {
          "base_uri": "https://localhost:8080/",
          "height": 35
        },
        "id": "5GHdg8Ym2k88",
        "outputId": "fdf9610f-4221-4e20-9286-1a755cc28338"
      },
      "execution_count": 13,
      "outputs": [
        {
          "output_type": "execute_result",
          "data": {
            "text/plain": [
              "'e'"
            ],
            "application/vnd.google.colaboratory.intrinsic+json": {
              "type": "string"
            }
          },
          "metadata": {},
          "execution_count": 13
        }
      ]
    },
    {
      "cell_type": "code",
      "source": [
        "\"Hello, world!\"[0:5]"
      ],
      "metadata": {
        "colab": {
          "base_uri": "https://localhost:8080/",
          "height": 35
        },
        "id": "G1ekAMAS2uY8",
        "outputId": "80f14f53-ee14-4e73-b198-ff61fd91c8f5"
      },
      "execution_count": 14,
      "outputs": [
        {
          "output_type": "execute_result",
          "data": {
            "text/plain": [
              "'Hello'"
            ],
            "application/vnd.google.colaboratory.intrinsic+json": {
              "type": "string"
            }
          },
          "metadata": {},
          "execution_count": 14
        }
      ]
    },
    {
      "cell_type": "code",
      "source": [
        "\"Hello, world!\"[:5]"
      ],
      "metadata": {
        "colab": {
          "base_uri": "https://localhost:8080/",
          "height": 35
        },
        "id": "PJDx6rjU2uHo",
        "outputId": "3de174d7-2d92-4e36-a5b4-d91faf6c1aca"
      },
      "execution_count": 15,
      "outputs": [
        {
          "output_type": "execute_result",
          "data": {
            "text/plain": [
              "'Hello'"
            ],
            "application/vnd.google.colaboratory.intrinsic+json": {
              "type": "string"
            }
          },
          "metadata": {},
          "execution_count": 15
        }
      ]
    },
    {
      "cell_type": "code",
      "source": [
        "\"Hello, world!\"[3:]"
      ],
      "metadata": {
        "colab": {
          "base_uri": "https://localhost:8080/",
          "height": 35
        },
        "id": "P-FPEK-52t6g",
        "outputId": "60a6b11a-6e46-4627-cb28-ad4c5f762e17"
      },
      "execution_count": 16,
      "outputs": [
        {
          "output_type": "execute_result",
          "data": {
            "text/plain": [
              "'lo, world!'"
            ],
            "application/vnd.google.colaboratory.intrinsic+json": {
              "type": "string"
            }
          },
          "metadata": {},
          "execution_count": 16
        }
      ]
    },
    {
      "cell_type": "markdown",
      "source": [
        "**Question 7:-** What are the values of the following expressions?\n",
        "\n",
        "'Hello'.upper()\n",
        "\n",
        "'Hello'.upper().isupper()\n",
        "\n",
        "'Hello'.upper().lower()"
      ],
      "metadata": {
        "id": "jrfa0ec3uteb"
      }
    },
    {
      "cell_type": "markdown",
      "source": [
        "**Ans:-**\n",
        "\n",
        "The expressions evaluate to the following:"
      ],
      "metadata": {
        "id": "z0X4dXoQ3Y3-"
      }
    },
    {
      "cell_type": "code",
      "source": [
        "\"Hello\".upper()"
      ],
      "metadata": {
        "colab": {
          "base_uri": "https://localhost:8080/",
          "height": 35
        },
        "id": "YhYtHg4V3Gjp",
        "outputId": "a833d8da-c11b-4545-e4d5-8f7af950a06f"
      },
      "execution_count": 17,
      "outputs": [
        {
          "output_type": "execute_result",
          "data": {
            "text/plain": [
              "'HELLO'"
            ],
            "application/vnd.google.colaboratory.intrinsic+json": {
              "type": "string"
            }
          },
          "metadata": {},
          "execution_count": 17
        }
      ]
    },
    {
      "cell_type": "code",
      "source": [
        "\"Hello\".upper().isupper()"
      ],
      "metadata": {
        "colab": {
          "base_uri": "https://localhost:8080/"
        },
        "id": "5xa8wqem3GYJ",
        "outputId": "3998d390-955d-4284-fa8d-f3ef29722f37"
      },
      "execution_count": 18,
      "outputs": [
        {
          "output_type": "execute_result",
          "data": {
            "text/plain": [
              "True"
            ]
          },
          "metadata": {},
          "execution_count": 18
        }
      ]
    },
    {
      "cell_type": "code",
      "source": [
        "\"Hello\".upper().lower()"
      ],
      "metadata": {
        "colab": {
          "base_uri": "https://localhost:8080/",
          "height": 35
        },
        "id": "Cu4P5Jsf3GBM",
        "outputId": "b75b766a-4c86-4281-a8fe-2965d2f94569"
      },
      "execution_count": 19,
      "outputs": [
        {
          "output_type": "execute_result",
          "data": {
            "text/plain": [
              "'hello'"
            ],
            "application/vnd.google.colaboratory.intrinsic+json": {
              "type": "string"
            }
          },
          "metadata": {},
          "execution_count": 19
        }
      ]
    },
    {
      "cell_type": "markdown",
      "source": [
        "**Question 8:-** What are the values of the following expressions?\n",
        "\n",
        "'Remember, remember, the fifth of July.'.split()\n",
        "\n",
        "'_'.join('There can only one.'.split())"
      ],
      "metadata": {
        "id": "dQCM5HoxvJfW"
      }
    },
    {
      "cell_type": "markdown",
      "source": [
        "**Ans:-**\n",
        "\n",
        "The expressions evaluate to the following:"
      ],
      "metadata": {
        "id": "i4PfLUf73m0P"
      }
    },
    {
      "cell_type": "code",
      "source": [
        "['Remember, remember, the fifth of July.'.split()]"
      ],
      "metadata": {
        "colab": {
          "base_uri": "https://localhost:8080/"
        },
        "id": "KhjtrGwP3yIa",
        "outputId": "01dc3db2-134f-49c1-cfeb-686114ae67ae"
      },
      "execution_count": 20,
      "outputs": [
        {
          "output_type": "execute_result",
          "data": {
            "text/plain": [
              "[['Remember,', 'remember,', 'the', 'fifth', 'of', 'July.']]"
            ]
          },
          "metadata": {},
          "execution_count": 20
        }
      ]
    },
    {
      "cell_type": "code",
      "source": [
        "'-'.join('There can only one.'.split())"
      ],
      "metadata": {
        "colab": {
          "base_uri": "https://localhost:8080/",
          "height": 35
        },
        "id": "ejKcLchh3yE3",
        "outputId": "b0c96891-9966-41be-f39c-009794185784"
      },
      "execution_count": 22,
      "outputs": [
        {
          "output_type": "execute_result",
          "data": {
            "text/plain": [
              "'There-can-only-one.'"
            ],
            "application/vnd.google.colaboratory.intrinsic+json": {
              "type": "string"
            }
          },
          "metadata": {},
          "execution_count": 22
        }
      ]
    },
    {
      "cell_type": "markdown",
      "source": [
        "**Question 9:-** What are the methods for right-justifying, left-justifying, and centering a string?"
      ],
      "metadata": {
        "id": "iz6QsmADvjfK"
      }
    },
    {
      "cell_type": "markdown",
      "source": [
        "**Ans:-**\n",
        "\n",
        "The rjust(), ljust(), and center() string methods, respectively"
      ],
      "metadata": {
        "id": "O3XDR_hI4Z8H"
      }
    },
    {
      "cell_type": "code",
      "source": [
        "# Left justified\n",
        "str = \"My name is\"\n",
        "str.ljust(10,\"*\")"
      ],
      "metadata": {
        "colab": {
          "base_uri": "https://localhost:8080/",
          "height": 35
        },
        "id": "Uug7gvTm4oCA",
        "outputId": "fc849109-574b-46a3-a3f5-fa89ed3ab4b4"
      },
      "execution_count": 24,
      "outputs": [
        {
          "output_type": "execute_result",
          "data": {
            "text/plain": [
              "'My name is'"
            ],
            "application/vnd.google.colaboratory.intrinsic+json": {
              "type": "string"
            }
          },
          "metadata": {},
          "execution_count": 24
        }
      ]
    },
    {
      "cell_type": "code",
      "source": [
        "# Right justified\n",
        "str = \"Pooja\"\n",
        "str.rjust(25,'@')"
      ],
      "metadata": {
        "colab": {
          "base_uri": "https://localhost:8080/",
          "height": 35
        },
        "id": "_yXMdXxj5CMh",
        "outputId": "9e73590b-8d6c-4a08-a97e-639ecf1589e3"
      },
      "execution_count": 26,
      "outputs": [
        {
          "output_type": "execute_result",
          "data": {
            "text/plain": [
              "'@@@@@@@@@@@@@@@@@@@@Pooja'"
            ],
            "application/vnd.google.colaboratory.intrinsic+json": {
              "type": "string"
            }
          },
          "metadata": {},
          "execution_count": 26
        }
      ]
    },
    {
      "cell_type": "code",
      "source": [
        "# Center justified\n",
        "str = \"Pooja\"\n",
        "str.center(50,'!')"
      ],
      "metadata": {
        "colab": {
          "base_uri": "https://localhost:8080/",
          "height": 35
        },
        "id": "3iudLYpq5XZd",
        "outputId": "88c41c6f-4926-4072-bc3d-83edae7d25ca"
      },
      "execution_count": 33,
      "outputs": [
        {
          "output_type": "execute_result",
          "data": {
            "text/plain": [
              "'!!!!!!!!!!!!!!!!!!!!!!Pooja!!!!!!!!!!!!!!!!!!!!!!!'"
            ],
            "application/vnd.google.colaboratory.intrinsic+json": {
              "type": "string"
            }
          },
          "metadata": {},
          "execution_count": 33
        }
      ]
    },
    {
      "cell_type": "markdown",
      "source": [
        "**Question 10:-** What is the best way to remove whitespace characters from the start or end?"
      ],
      "metadata": {
        "id": "ttUSf7q5wFoG"
      }
    },
    {
      "cell_type": "markdown",
      "source": [
        "**Ans:-**\n",
        "\n",
        "The lstrip() and rstrip() methods remove whitespace from the left and right ends of a string, respectively."
      ],
      "metadata": {
        "id": "CXT3NzS757Gb"
      }
    },
    {
      "cell_type": "code",
      "execution_count": 34,
      "metadata": {
        "id": "TzeCX_zDq7Ef"
      },
      "outputs": [],
      "source": [
        "str = \"     Hello World!     \""
      ]
    },
    {
      "cell_type": "code",
      "source": [
        "str"
      ],
      "metadata": {
        "colab": {
          "base_uri": "https://localhost:8080/",
          "height": 35
        },
        "id": "Fas6nGLW6Vbz",
        "outputId": "4f290830-5041-46db-d4f6-4e4dff8d469e"
      },
      "execution_count": 35,
      "outputs": [
        {
          "output_type": "execute_result",
          "data": {
            "text/plain": [
              "'     Hello World!     '"
            ],
            "application/vnd.google.colaboratory.intrinsic+json": {
              "type": "string"
            }
          },
          "metadata": {},
          "execution_count": 35
        }
      ]
    },
    {
      "cell_type": "code",
      "source": [
        "str.lstrip()"
      ],
      "metadata": {
        "colab": {
          "base_uri": "https://localhost:8080/",
          "height": 35
        },
        "id": "0Jz663ak6W5-",
        "outputId": "75ca6064-c9d5-42b1-95ff-bb0f53e689a7"
      },
      "execution_count": 36,
      "outputs": [
        {
          "output_type": "execute_result",
          "data": {
            "text/plain": [
              "'Hello World!     '"
            ],
            "application/vnd.google.colaboratory.intrinsic+json": {
              "type": "string"
            }
          },
          "metadata": {},
          "execution_count": 36
        }
      ]
    },
    {
      "cell_type": "code",
      "source": [
        "str"
      ],
      "metadata": {
        "colab": {
          "base_uri": "https://localhost:8080/",
          "height": 35
        },
        "id": "awGlag0M6Z8y",
        "outputId": "d08d6fb4-b1d2-4dc9-e3a2-0ae26e2b47f9"
      },
      "execution_count": 37,
      "outputs": [
        {
          "output_type": "execute_result",
          "data": {
            "text/plain": [
              "'     Hello World!     '"
            ],
            "application/vnd.google.colaboratory.intrinsic+json": {
              "type": "string"
            }
          },
          "metadata": {},
          "execution_count": 37
        }
      ]
    },
    {
      "cell_type": "code",
      "source": [
        "str.rstrip()"
      ],
      "metadata": {
        "colab": {
          "base_uri": "https://localhost:8080/",
          "height": 35
        },
        "id": "TyoE3bGM6fvm",
        "outputId": "babddfd4-f043-4dfd-e9ae-f8143fc0732a"
      },
      "execution_count": 38,
      "outputs": [
        {
          "output_type": "execute_result",
          "data": {
            "text/plain": [
              "'     Hello World!'"
            ],
            "application/vnd.google.colaboratory.intrinsic+json": {
              "type": "string"
            }
          },
          "metadata": {},
          "execution_count": 38
        }
      ]
    }
  ]
}