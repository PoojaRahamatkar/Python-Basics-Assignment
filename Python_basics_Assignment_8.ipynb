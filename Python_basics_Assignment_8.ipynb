{
  "nbformat": 4,
  "nbformat_minor": 0,
  "metadata": {
    "colab": {
      "provenance": []
    },
    "kernelspec": {
      "name": "python3",
      "display_name": "Python 3"
    },
    "language_info": {
      "name": "python"
    }
  },
  "cells": [
    {
      "cell_type": "markdown",
      "source": [
        "**Assignment 8**\n",
        "\n",
        "\n",
        "---\n",
        "\n",
        "\n",
        "---\n",
        "\n",
        "\n"
      ],
      "metadata": {
        "id": "g3LE57Sv_i4p"
      }
    },
    {
      "cell_type": "markdown",
      "source": [
        "**Question 1:-** Is the Python Standard Library included with PyInputPlus?"
      ],
      "metadata": {
        "id": "SrhQjdKP_xEe"
      }
    },
    {
      "cell_type": "markdown",
      "source": [
        "**Ans:-** \n",
        "\n",
        "PyInputPlus is not a part of the Python Standard Library, so you must install it separately using pip"
      ],
      "metadata": {
        "id": "7r0zjGG8AbPK"
      }
    },
    {
      "cell_type": "code",
      "execution_count": 1,
      "metadata": {
        "colab": {
          "base_uri": "https://localhost:8080/"
        },
        "id": "RxtvoxFQ_W6B",
        "outputId": "7e59446c-3cb2-4bee-be00-71b965b4bf9c"
      },
      "outputs": [
        {
          "output_type": "stream",
          "name": "stdout",
          "text": [
            "Looking in indexes: https://pypi.org/simple, https://us-python.pkg.dev/colab-wheels/public/simple/\n",
            "Collecting pyinputplus\n",
            "  Downloading PyInputPlus-0.2.12.tar.gz (20 kB)\n",
            "  Installing build dependencies ... \u001b[?25l\u001b[?25hdone\n",
            "  Getting requirements to build wheel ... \u001b[?25l\u001b[?25hdone\n",
            "    Preparing wheel metadata ... \u001b[?25l\u001b[?25hdone\n",
            "Collecting pysimplevalidate>=0.2.7\n",
            "  Downloading PySimpleValidate-0.2.12.tar.gz (22 kB)\n",
            "  Installing build dependencies ... \u001b[?25l\u001b[?25hdone\n",
            "  Getting requirements to build wheel ... \u001b[?25l\u001b[?25hdone\n",
            "    Preparing wheel metadata ... \u001b[?25l\u001b[?25hdone\n",
            "Collecting stdiomask>=0.0.3\n",
            "  Downloading stdiomask-0.0.6.tar.gz (3.6 kB)\n",
            "  Installing build dependencies ... \u001b[?25l\u001b[?25hdone\n",
            "  Getting requirements to build wheel ... \u001b[?25l\u001b[?25hdone\n",
            "    Preparing wheel metadata ... \u001b[?25l\u001b[?25hdone\n",
            "Building wheels for collected packages: pyinputplus, pysimplevalidate, stdiomask\n",
            "  Building wheel for pyinputplus (PEP 517) ... \u001b[?25l\u001b[?25hdone\n",
            "  Created wheel for pyinputplus: filename=PyInputPlus-0.2.12-py3-none-any.whl size=11315 sha256=de7bea78bbbb8a8b776b87b044f3a39bf042ee97f655d728c044dd5ca3a81b71\n",
            "  Stored in directory: /root/.cache/pip/wheels/e7/33/73/719f8f1bd984d39face880fd22f6c5ef1b85f726e84c687094\n",
            "  Building wheel for pysimplevalidate (PEP 517) ... \u001b[?25l\u001b[?25hdone\n",
            "  Created wheel for pysimplevalidate: filename=PySimpleValidate-0.2.12-py3-none-any.whl size=16193 sha256=ab42f296fe121ed30191e41f7de37183a3145b3d54d89783fb449bffbb1b5706\n",
            "  Stored in directory: /root/.cache/pip/wheels/5a/8b/6c/2925d22b93860bdc9b8ce02c3d2cf79336606f7469cef66065\n",
            "  Building wheel for stdiomask (PEP 517) ... \u001b[?25l\u001b[?25hdone\n",
            "  Created wheel for stdiomask: filename=stdiomask-0.0.6-py3-none-any.whl size=3321 sha256=b383cf9e32034d583f190745368f67811f136764dc2af5d2f2a2e1284153a19c\n",
            "  Stored in directory: /root/.cache/pip/wheels/cf/13/89/64d0d3b167759523f4c1e68f883bbc30e7bfa27050edeb418e\n",
            "Successfully built pyinputplus pysimplevalidate stdiomask\n",
            "Installing collected packages: stdiomask, pysimplevalidate, pyinputplus\n",
            "Successfully installed pyinputplus-0.2.12 pysimplevalidate-0.2.12 stdiomask-0.0.6\n"
          ]
        }
      ],
      "source": [
        "!pip install pyinputplus"
      ]
    },
    {
      "cell_type": "markdown",
      "source": [
        "\n",
        "\n",
        "---\n",
        "\n"
      ],
      "metadata": {
        "id": "n15UZmhHOSwv"
      }
    },
    {
      "cell_type": "markdown",
      "source": [
        "**Question 2:-** Why is PyInputPlus commonly imported with import pyinputplus as pypi?"
      ],
      "metadata": {
        "id": "hhGkqE_2A1el"
      }
    },
    {
      "cell_type": "markdown",
      "source": [
        "**Ans:-**\n",
        "\n",
        "pypi is alias of PyInputPlus. The as pyip code in the import statement saves us from typing pyinputplus each time we want to call a PyInputPlus function. Instead we can use the shorter pyip name "
      ],
      "metadata": {
        "id": "y3qsSKniBN_5"
      }
    },
    {
      "cell_type": "markdown",
      "source": [
        "\n",
        "\n",
        "---\n",
        "\n"
      ],
      "metadata": {
        "id": "ykV9_D75OUHA"
      }
    },
    {
      "cell_type": "markdown",
      "source": [
        "**Question 3:-** How do you distinguish between inputInt() and inputFloat()?"
      ],
      "metadata": {
        "id": "VvWIU4X4CzdS"
      }
    },
    {
      "cell_type": "markdown",
      "source": [
        "**Ans:-**\n",
        "\n",
        "inputInt() : Accepts an integer value, and returns int value.\n",
        "\n",
        "inputFloat() : Accepts integer/floating point value and returns float value."
      ],
      "metadata": {
        "id": "iT-lzkS_DL0Q"
      }
    },
    {
      "cell_type": "code",
      "source": [
        "import pyinputplus as pyip"
      ],
      "metadata": {
        "id": "4U16y3sSAvoT"
      },
      "execution_count": 2,
      "outputs": []
    },
    {
      "cell_type": "code",
      "source": [
        "pyip.inputInt()"
      ],
      "metadata": {
        "colab": {
          "base_uri": "https://localhost:8080/"
        },
        "id": "l23seNpjEAq0",
        "outputId": "58ba538b-8c36-4a1a-b015-2406e963bba6"
      },
      "execution_count": 3,
      "outputs": [
        {
          "name": "stdout",
          "output_type": "stream",
          "text": [
            "7.5\n",
            "'7.5' is not an integer.\n",
            "7\n"
          ]
        },
        {
          "output_type": "execute_result",
          "data": {
            "text/plain": [
              "7"
            ]
          },
          "metadata": {},
          "execution_count": 3
        }
      ]
    },
    {
      "cell_type": "code",
      "source": [
        "pyip.inputFloat()"
      ],
      "metadata": {
        "colab": {
          "base_uri": "https://localhost:8080/"
        },
        "id": "vswu8g0iEDSr",
        "outputId": "2c62dba0-2388-49b8-f3e7-71bb7eb1dd44"
      },
      "execution_count": 5,
      "outputs": [
        {
          "name": "stdout",
          "output_type": "stream",
          "text": [
            "9\n"
          ]
        },
        {
          "output_type": "execute_result",
          "data": {
            "text/plain": [
              "9.0"
            ]
          },
          "metadata": {},
          "execution_count": 5
        }
      ]
    },
    {
      "cell_type": "code",
      "source": [
        "pyip.inputFloat()"
      ],
      "metadata": {
        "colab": {
          "base_uri": "https://localhost:8080/"
        },
        "id": "x_EpJ04SEOx-",
        "outputId": "c4683f94-b3e9-45e6-8747-0cac5cadec33"
      },
      "execution_count": 6,
      "outputs": [
        {
          "name": "stdout",
          "output_type": "stream",
          "text": [
            "9.5\n"
          ]
        },
        {
          "output_type": "execute_result",
          "data": {
            "text/plain": [
              "9.5"
            ]
          },
          "metadata": {},
          "execution_count": 6
        }
      ]
    },
    {
      "cell_type": "markdown",
      "source": [
        "\n",
        "\n",
        "---\n",
        "\n"
      ],
      "metadata": {
        "id": "GZhc-7L_OV-g"
      }
    },
    {
      "cell_type": "markdown",
      "source": [
        "**Question 4:-** Using PyInputPlus, how do you ensure that the user enters a whole number between 0 and 99?"
      ],
      "metadata": {
        "id": "pA14Ls3YEhA9"
      }
    },
    {
      "cell_type": "markdown",
      "source": [
        "**Ans:-**\n",
        "\n",
        "In the inputint function we can set the min = 0 and max = 99 to ensure user enters number between 0 and 99"
      ],
      "metadata": {
        "id": "Kh3t9POWE5Ny"
      }
    },
    {
      "cell_type": "code",
      "source": [
        "pyip.inputInt(min = 0, max = 99)"
      ],
      "metadata": {
        "colab": {
          "base_uri": "https://localhost:8080/"
        },
        "id": "Y0WdLX6yEatm",
        "outputId": "5ed73a73-0e16-493a-e22c-be48e1cfa1e7"
      },
      "execution_count": 7,
      "outputs": [
        {
          "name": "stdout",
          "output_type": "stream",
          "text": [
            "555\n",
            "Number must be at maximum 99.\n",
            "55\n"
          ]
        },
        {
          "output_type": "execute_result",
          "data": {
            "text/plain": [
              "55"
            ]
          },
          "metadata": {},
          "execution_count": 7
        }
      ]
    },
    {
      "cell_type": "markdown",
      "source": [
        "\n",
        "\n",
        "---\n",
        "\n"
      ],
      "metadata": {
        "id": "0OsOfaQqOXTZ"
      }
    },
    {
      "cell_type": "markdown",
      "source": [
        "**Question 5:-** What is transferred to the keyword arguments allowRegexes and blockRegexes?"
      ],
      "metadata": {
        "id": "I_WQCUzWFdgJ"
      }
    },
    {
      "cell_type": "markdown",
      "source": [
        "**Ans:-**\n",
        "\n",
        "We can also use regular expressions to specify whether an input is allowed or no. The allowRegexes and blockRegexes keyword arguments take a list of regular expression strings to determine what the PyInputPlus function will accept or reject as valid input."
      ],
      "metadata": {
        "id": "6TPPDNApF2zQ"
      }
    },
    {
      "cell_type": "code",
      "source": [
        "response = pyip.inputNum(allowRegexes=[r'(I|V|X|L|C|D|M)+', r'zero'])\n",
        "# it allowes roman letters as numbers too"
      ],
      "metadata": {
        "colab": {
          "base_uri": "https://localhost:8080/"
        },
        "id": "lJzd3b7DG9W6",
        "outputId": "56f0290e-a1ef-416e-cb3b-1a255233d655"
      },
      "execution_count": 9,
      "outputs": [
        {
          "name": "stdout",
          "output_type": "stream",
          "text": [
            "x\n",
            "'x' is not a number.\n",
            "h\n",
            "'h' is not a number.\n",
            "X\n"
          ]
        }
      ]
    },
    {
      "cell_type": "code",
      "source": [
        "response = pyip.inputNum(blockRegexes=[r'[02468]$'])\n",
        "# blocks the even number"
      ],
      "metadata": {
        "colab": {
          "base_uri": "https://localhost:8080/"
        },
        "id": "2pq3uT1wFVCQ",
        "outputId": "90f04cb6-f3c6-4c0c-94e5-780ad1ff0e2e"
      },
      "execution_count": 8,
      "outputs": [
        {
          "name": "stdout",
          "output_type": "stream",
          "text": [
            "2\n",
            "This response is invalid.\n",
            "4\n",
            "This response is invalid.\n",
            "6\n",
            "This response is invalid.\n",
            "45\n"
          ]
        }
      ]
    },
    {
      "cell_type": "markdown",
      "source": [
        "\n",
        "\n",
        "---\n",
        "\n"
      ],
      "metadata": {
        "id": "LKckV6diOZsA"
      }
    },
    {
      "cell_type": "markdown",
      "source": [
        "**Question 6:-** If a blank input is entered three times, what does inputStr(limit=3) do?"
      ],
      "metadata": {
        "id": "VREa6GHIHwcA"
      }
    },
    {
      "cell_type": "markdown",
      "source": [
        "**Ans:-**\n",
        "\n",
        "It will throw RetryLimitException exception."
      ],
      "metadata": {
        "id": "ZHtbasacIBLt"
      }
    },
    {
      "cell_type": "code",
      "source": [
        "response = pyip.inputStr(limit=3)"
      ],
      "metadata": {
        "colab": {
          "base_uri": "https://localhost:8080/",
          "height": 588
        },
        "id": "UpX-4kSyG1v0",
        "outputId": "4c9181d2-7f50-48ee-9c8d-c21e1b06dacf"
      },
      "execution_count": 10,
      "outputs": [
        {
          "output_type": "stream",
          "name": "stdout",
          "text": [
            "\n",
            "Blank values are not allowed.\n",
            "\n",
            "Blank values are not allowed.\n",
            "\n",
            "Blank values are not allowed.\n"
          ]
        },
        {
          "output_type": "error",
          "ename": "RetryLimitException",
          "evalue": "ignored",
          "traceback": [
            "\u001b[0;31m---------------------------------------------------------------------------\u001b[0m",
            "\u001b[0;31mValidationException\u001b[0m                       Traceback (most recent call last)",
            "\u001b[0;32m/usr/local/lib/python3.7/dist-packages/pyinputplus/__init__.py\u001b[0m in \u001b[0;36m_genericInput\u001b[0;34m(prompt, default, timeout, limit, applyFunc, validationFunc, postValidateApplyFunc, passwordMask)\u001b[0m\n\u001b[1;32m    167\u001b[0m             possibleNewUserInput = validationFunc(\n\u001b[0;32m--> 168\u001b[0;31m                 \u001b[0muserInput\u001b[0m\u001b[0;34m\u001b[0m\u001b[0;34m\u001b[0m\u001b[0m\n\u001b[0m\u001b[1;32m    169\u001b[0m             )  # If validation fails, this function will raise an exception. Returns an updated value to use as user input (e.g. stripped of whitespace, etc.)\n",
            "\u001b[0;32m/usr/local/lib/python3.7/dist-packages/pyinputplus/__init__.py\u001b[0m in \u001b[0;36m<lambda>\u001b[0;34m(value)\u001b[0m\n\u001b[1;32m    243\u001b[0m     validationFunc = lambda value: pysv._prevalidationCheck(\n\u001b[0;32m--> 244\u001b[0;31m         \u001b[0mvalue\u001b[0m\u001b[0;34m,\u001b[0m \u001b[0mblank\u001b[0m\u001b[0;34m=\u001b[0m\u001b[0mblank\u001b[0m\u001b[0;34m,\u001b[0m \u001b[0mstrip\u001b[0m\u001b[0;34m=\u001b[0m\u001b[0mstrip\u001b[0m\u001b[0;34m,\u001b[0m \u001b[0mallowRegexes\u001b[0m\u001b[0;34m=\u001b[0m\u001b[0mallowRegexes\u001b[0m\u001b[0;34m,\u001b[0m \u001b[0mblockRegexes\u001b[0m\u001b[0;34m=\u001b[0m\u001b[0mblockRegexes\u001b[0m\u001b[0;34m,\u001b[0m \u001b[0mexcMsg\u001b[0m\u001b[0;34m=\u001b[0m\u001b[0;32mNone\u001b[0m\u001b[0;34m,\u001b[0m\u001b[0;34m\u001b[0m\u001b[0;34m\u001b[0m\u001b[0m\n\u001b[0m\u001b[1;32m    245\u001b[0m     )[1]\n",
            "\u001b[0;32m/usr/local/lib/python3.7/dist-packages/pysimplevalidate/__init__.py\u001b[0m in \u001b[0;36m_prevalidationCheck\u001b[0;34m(value, blank, strip, allowRegexes, blockRegexes, excMsg)\u001b[0m\n\u001b[1;32m    249\u001b[0m         \u001b[0;31m# value is blank but blanks aren't allowed.\u001b[0m\u001b[0;34m\u001b[0m\u001b[0;34m\u001b[0m\u001b[0;34m\u001b[0m\u001b[0m\n\u001b[0;32m--> 250\u001b[0;31m         \u001b[0m_raiseValidationException\u001b[0m\u001b[0;34m(\u001b[0m\u001b[0m_\u001b[0m\u001b[0;34m(\u001b[0m\u001b[0;34m\"Blank values are not allowed.\"\u001b[0m\u001b[0;34m)\u001b[0m\u001b[0;34m,\u001b[0m \u001b[0mexcMsg\u001b[0m\u001b[0;34m)\u001b[0m\u001b[0;34m\u001b[0m\u001b[0;34m\u001b[0m\u001b[0m\n\u001b[0m\u001b[1;32m    251\u001b[0m     \u001b[0;32melif\u001b[0m \u001b[0mblank\u001b[0m \u001b[0;32mand\u001b[0m \u001b[0mvalue\u001b[0m \u001b[0;34m==\u001b[0m \u001b[0;34m\"\"\u001b[0m\u001b[0;34m:\u001b[0m\u001b[0;34m\u001b[0m\u001b[0;34m\u001b[0m\u001b[0m\n",
            "\u001b[0;32m/usr/local/lib/python3.7/dist-packages/pysimplevalidate/__init__.py\u001b[0m in \u001b[0;36m_raiseValidationException\u001b[0;34m(standardExcMsg, customExcMsg)\u001b[0m\n\u001b[1;32m    221\u001b[0m     \u001b[0;32mif\u001b[0m \u001b[0mcustomExcMsg\u001b[0m \u001b[0;32mis\u001b[0m \u001b[0;32mNone\u001b[0m\u001b[0;34m:\u001b[0m\u001b[0;34m\u001b[0m\u001b[0;34m\u001b[0m\u001b[0m\n\u001b[0;32m--> 222\u001b[0;31m         \u001b[0;32mraise\u001b[0m \u001b[0mValidationException\u001b[0m\u001b[0;34m(\u001b[0m\u001b[0mstr\u001b[0m\u001b[0;34m(\u001b[0m\u001b[0mstandardExcMsg\u001b[0m\u001b[0;34m)\u001b[0m\u001b[0;34m)\u001b[0m\u001b[0;34m\u001b[0m\u001b[0;34m\u001b[0m\u001b[0m\n\u001b[0m\u001b[1;32m    223\u001b[0m     \u001b[0;32melse\u001b[0m\u001b[0;34m:\u001b[0m\u001b[0;34m\u001b[0m\u001b[0;34m\u001b[0m\u001b[0m\n",
            "\u001b[0;31mValidationException\u001b[0m: Blank values are not allowed.",
            "\nDuring handling of the above exception, another exception occurred:\n",
            "\u001b[0;31mRetryLimitException\u001b[0m                       Traceback (most recent call last)",
            "\u001b[0;32m<ipython-input-10-af00d69b8cd2>\u001b[0m in \u001b[0;36m<module>\u001b[0;34m\u001b[0m\n\u001b[0;32m----> 1\u001b[0;31m \u001b[0mresponse\u001b[0m \u001b[0;34m=\u001b[0m \u001b[0mpyip\u001b[0m\u001b[0;34m.\u001b[0m\u001b[0minputStr\u001b[0m\u001b[0;34m(\u001b[0m\u001b[0mlimit\u001b[0m\u001b[0;34m=\u001b[0m\u001b[0;36m3\u001b[0m\u001b[0;34m)\u001b[0m\u001b[0;34m\u001b[0m\u001b[0;34m\u001b[0m\u001b[0m\n\u001b[0m",
            "\u001b[0;32m/usr/local/lib/python3.7/dist-packages/pyinputplus/__init__.py\u001b[0m in \u001b[0;36minputStr\u001b[0;34m(prompt, default, blank, timeout, limit, strip, allowRegexes, blockRegexes, applyFunc, postValidateApplyFunc)\u001b[0m\n\u001b[1;32m    252\u001b[0m         \u001b[0mapplyFunc\u001b[0m\u001b[0;34m=\u001b[0m\u001b[0mapplyFunc\u001b[0m\u001b[0;34m,\u001b[0m\u001b[0;34m\u001b[0m\u001b[0;34m\u001b[0m\u001b[0m\n\u001b[1;32m    253\u001b[0m         \u001b[0mpostValidateApplyFunc\u001b[0m\u001b[0;34m=\u001b[0m\u001b[0mpostValidateApplyFunc\u001b[0m\u001b[0;34m,\u001b[0m\u001b[0;34m\u001b[0m\u001b[0;34m\u001b[0m\u001b[0m\n\u001b[0;32m--> 254\u001b[0;31m         \u001b[0mvalidationFunc\u001b[0m\u001b[0;34m=\u001b[0m\u001b[0mvalidationFunc\u001b[0m\u001b[0;34m,\u001b[0m\u001b[0;34m\u001b[0m\u001b[0;34m\u001b[0m\u001b[0m\n\u001b[0m\u001b[1;32m    255\u001b[0m     )\n\u001b[1;32m    256\u001b[0m \u001b[0;34m\u001b[0m\u001b[0m\n",
            "\u001b[0;32m/usr/local/lib/python3.7/dist-packages/pyinputplus/__init__.py\u001b[0m in \u001b[0;36m_genericInput\u001b[0;34m(prompt, default, timeout, limit, applyFunc, validationFunc, postValidateApplyFunc, passwordMask)\u001b[0m\n\u001b[1;32m    186\u001b[0m                 \u001b[0;32melse\u001b[0m\u001b[0;34m:\u001b[0m\u001b[0;34m\u001b[0m\u001b[0;34m\u001b[0m\u001b[0m\n\u001b[1;32m    187\u001b[0m                     \u001b[0;31m# If there is no default, then raise the timeout/limit exception.\u001b[0m\u001b[0;34m\u001b[0m\u001b[0;34m\u001b[0m\u001b[0;34m\u001b[0m\u001b[0m\n\u001b[0;32m--> 188\u001b[0;31m                     \u001b[0;32mraise\u001b[0m \u001b[0mlimitOrTimeoutException\u001b[0m\u001b[0;34m\u001b[0m\u001b[0;34m\u001b[0m\u001b[0m\n\u001b[0m\u001b[1;32m    189\u001b[0m             \u001b[0;32melse\u001b[0m\u001b[0;34m:\u001b[0m\u001b[0;34m\u001b[0m\u001b[0;34m\u001b[0m\u001b[0m\n\u001b[1;32m    190\u001b[0m                 \u001b[0;31m# If there was no timeout/limit exceeded, let the user enter input again.\u001b[0m\u001b[0;34m\u001b[0m\u001b[0;34m\u001b[0m\u001b[0;34m\u001b[0m\u001b[0m\n",
            "\u001b[0;31mRetryLimitException\u001b[0m: "
          ]
        }
      ]
    },
    {
      "cell_type": "markdown",
      "source": [
        "\n",
        "\n",
        "---\n",
        "\n"
      ],
      "metadata": {
        "id": "hw3iv7NZOblY"
      }
    },
    {
      "cell_type": "markdown",
      "source": [
        "**Question 7:-** If blank input is entered three times, what does inputStr(limit=3, default='hello') do?"
      ],
      "metadata": {
        "id": "1GLqFD45Id5A"
      }
    },
    {
      "cell_type": "markdown",
      "source": [
        "**Ans:-**\n",
        "\n",
        "When you use limit keyword arguments and also pass a default keyword argument, the function returns the default value instead of raising an exception."
      ],
      "metadata": {
        "id": "unftueEnIz67"
      }
    },
    {
      "cell_type": "code",
      "source": [
        "response = pyip.inputStr(limit = 3, default = 'hello')\n",
        "response"
      ],
      "metadata": {
        "colab": {
          "base_uri": "https://localhost:8080/",
          "height": 140
        },
        "id": "8MYfT4sQIVTb",
        "outputId": "d36c4b14-91b1-4ca0-9b69-db53a85d6cff"
      },
      "execution_count": 11,
      "outputs": [
        {
          "output_type": "stream",
          "name": "stdout",
          "text": [
            "\n",
            "Blank values are not allowed.\n",
            "\n",
            "Blank values are not allowed.\n",
            "\n",
            "Blank values are not allowed.\n"
          ]
        },
        {
          "output_type": "execute_result",
          "data": {
            "text/plain": [
              "'hello'"
            ],
            "application/vnd.google.colaboratory.intrinsic+json": {
              "type": "string"
            }
          },
          "metadata": {},
          "execution_count": 11
        }
      ]
    }
  ]
}